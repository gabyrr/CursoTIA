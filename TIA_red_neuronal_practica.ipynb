{
  "nbformat": 4,
  "nbformat_minor": 0,
  "metadata": {
    "colab": {
      "provenance": [],
      "authorship_tag": "ABX9TyOerubMXySuFR1lmayvOfk1",
      "include_colab_link": true
    },
    "kernelspec": {
      "name": "python3",
      "display_name": "Python 3"
    },
    "language_info": {
      "name": "python"
    }
  },
  "cells": [
    {
      "cell_type": "markdown",
      "metadata": {
        "id": "view-in-github",
        "colab_type": "text"
      },
      "source": [
        "<a href=\"https://colab.research.google.com/github/gabyrr/CursoTIA/blob/main/TIA_red_neuronal_practica.ipynb\" target=\"_parent\"><img src=\"https://colab.research.google.com/assets/colab-badge.svg\" alt=\"Open In Colab\"/></a>"
      ]
    },
    {
      "cell_type": "markdown",
      "source": [
        "## Un ejemplo de un modelo con una arquitectura de redes neuronales profundas\n",
        "Notebook perteneciente al curso: Tópicos de inteligencia artificial: de métodos clásicos a modelos generativos. Por Gabriela Ramírez de la Rosa"
      ],
      "metadata": {
        "id": "6YCjd36x8VlZ"
      }
    },
    {
      "cell_type": "markdown",
      "source": [
        "**Fashion-MNIST**\n",
        "28x28 pixel images of 10 classes of fashion items\n"
      ],
      "metadata": {
        "id": "rVIR074o8jFL"
      }
    },
    {
      "cell_type": "code",
      "source": [
        "import tensorflow as tf\n",
        "from tensorflow.keras import models\n",
        "from tensorflow.keras import layers\n",
        "from numpy.random import seed\n",
        "from tensorflow.random import set_seed\n",
        "import random\n",
        "import os\n",
        "\n",
        "import numpy as np\n",
        "import matplotlib.pyplot as plt\n",
        "\n",
        "#Trying to set all seeds\n",
        "os.environ['PYTHONHASHSEED']=str(0)\n",
        "random.seed(0)\n",
        "seed(0)\n",
        "set_seed(0)\n",
        "seed_value= 0"
      ],
      "metadata": {
        "id": "SQZbN-16-jpB"
      },
      "execution_count": null,
      "outputs": []
    },
    {
      "cell_type": "code",
      "execution_count": null,
      "metadata": {
        "colab": {
          "base_uri": "https://localhost:8080/"
        },
        "id": "Pbxt4gF08Gga",
        "outputId": "fa3b4d73-d24f-42d4-942e-7af1e3aa759b"
      },
      "outputs": [
        {
          "output_type": "stream",
          "name": "stdout",
          "text": [
            "X shape: (60000, 28, 28) y shape: (60000,)\n"
          ]
        }
      ],
      "source": [
        "# Load the fashion-mnist pre-shuffled train data and test data\n",
        "(X, y), (_,_) = tf.keras.datasets.fashion_mnist.load_data()\n",
        "print(\"X shape:\", X.shape, \"y shape:\", y.shape)\n",
        "\n",
        "X = X.reshape(60000, 28, 28)\n",
        "fmnist_classes = {0:\"T-shirt/top\", 1: \"Trouser\", 2: \"Pullover\", 3: \"Dress\", 4: \"Coat\", 5: \"Sandal\",\n",
        "                  6: \"Shirt\", 7: \"Sneaker\", 8: \"Bag\", 9: \"Ankle boot\"}"
      ]
    },
    {
      "cell_type": "code",
      "source": [
        "# Imprime algunos ejemplos\n",
        "from random import randint\n",
        "fig, axes = plt.subplots(1, 5,  figsize=(10, 5))\n",
        "for i in range(5):\n",
        "    n = randint(0,60000)\n",
        "    axes[i].imshow(X[n], cmap=plt.cm.gray_r)\n",
        "    axes[i].set_xticks([])\n",
        "    axes[i].set_yticks([])\n",
        "    axes[i].set_xlabel(\"{}\".format(fmnist_classes[y[n]]))\n",
        "plt.show();"
      ],
      "metadata": {
        "colab": {
          "base_uri": "https://localhost:8080/",
          "height": 190
        },
        "id": "a3GpmMeC8tfI",
        "outputId": "f99f931e-5e0e-461b-a148-92daeb573368"
      },
      "execution_count": null,
      "outputs": [
        {
          "output_type": "display_data",
          "data": {
            "text/plain": [
              "<Figure size 1000x500 with 5 Axes>"
            ],
            "image/png": "[encoded data removed]"
          },
          "metadata": {}
        }
      ]
    },
    {
      "cell_type": "markdown",
      "source": [
        "### Diseñando la red\n",
        "- modelo secuencial\n",
        "- 1 capa de entrada: un vector plano de 28*28=784 nodos\n",
        "- 2 capas densas ocultas: 512 nodos cada una. Activación ReLU\n",
        "- 1 capa de salida: 10 nodos y activación softmax"
      ],
      "metadata": {
        "id": "nBWhfsx982W-"
      }
    },
    {
      "cell_type": "code",
      "source": [
        "from tensorflow.keras import initializers\n",
        "\n",
        "network = models.Sequential()\n",
        "network.add(layers.Dense(512, activation='relu', kernel_initializer='he_normal', input_shape=(28 * 28,)))\n",
        "network.add(layers.Dense(512, activation='relu', kernel_initializer='he_normal'))\n",
        "network.add(layers.Dense(10, activation='softmax'))"
      ],
      "metadata": {
        "colab": {
          "base_uri": "https://localhost:8080/"
        },
        "id": "ZIEnXNqBEQRZ",
        "outputId": "ad18cabe-13ac-42b7-9340-01139a720361"
      },
      "execution_count": null,
      "outputs": [
        {
          "output_type": "stream",
          "name": "stderr",
          "text": [
            "/usr/local/lib/python3.10/dist-packages/keras/src/layers/core/dense.py:87: UserWarning: Do not pass an `input_shape`/`input_dim` argument to a layer. When using Sequential models, prefer using an `Input(shape)` object as the first layer in the model instead.\n",
            "  super().__init__(activity_regularizer=activity_regularizer, **kwargs)\n"
          ]
        }
      ]
    },
    {
      "cell_type": "markdown",
      "source": [
        "#### Resumen del modelo\n",
        "Muchos parámetros:\n",
        "- capa oculta 1: (28*28+1) * 512 = 401920\n",
        "- capa oculta 1: (512+1) * 512 = 262656\n",
        "- capa de salida: (512 + 1) * 10 = 5130"
      ],
      "metadata": {
        "id": "O_tZv7rbE2Xu"
      }
    },
    {
      "cell_type": "code",
      "source": [
        "network.summary()"
      ],
      "metadata": {
        "colab": {
          "base_uri": "https://localhost:8080/",
          "height": 243
        },
        "id": "1f31HvfrFXhV",
        "outputId": "3af10182-e31f-49e2-fa3c-b2511da09ac5"
      },
      "execution_count": null,
      "outputs": [
        {
          "output_type": "display_data",
          "data": {
            "text/plain": [
              "\u001b[1mModel: \"sequential\"\u001b[0m\n"
            ],
            "text/html": [
              "<pre style=\"white-space:pre;overflow-x:auto;line-height:normal;font-family:Menlo,'DejaVu Sans Mono',consolas,'Courier New',monospace\"><span style=\"font-weight: bold\">Model: \"sequential\"</span>\n",
              "</pre>\n"
            ]
          },
          "metadata": {}
        },
        {
          "output_type": "display_data",
          "data": {
            "text/plain": [
              "┏━━━━━━━━━━━━━━━━━━━━━━━━━━━━━━━━━━━━━━┳━━━━━━━━━━━━━━━━━━━━━━━━━━━━━┳━━━━━━━━━━━━━━━━━┓\n",
              "┃\u001b[1m \u001b[0m\u001b[1mLayer (type)                        \u001b[0m\u001b[1m \u001b[0m┃\u001b[1m \u001b[0m\u001b[1mOutput Shape               \u001b[0m\u001b[1m \u001b[0m┃\u001b[1m \u001b[0m\u001b[1m        Param #\u001b[0m\u001b[1m \u001b[0m┃\n",
              "┡━━━━━━━━━━━━━━━━━━━━━━━━━━━━━━━━━━━━━━╇━━━━━━━━━━━━━━━━━━━━━━━━━━━━━╇━━━━━━━━━━━━━━━━━┩\n",
              "│ dense (\u001b[38;5;33mDense\u001b[0m)                        │ (\u001b[38;5;45mNone\u001b[0m, \u001b[38;5;34m512\u001b[0m)                 │         \u001b[38;5;34m401,920\u001b[0m │\n",
              "├──────────────────────────────────────┼─────────────────────────────┼─────────────────┤\n",
              "│ dense_1 (\u001b[38;5;33mDense\u001b[0m)                      │ (\u001b[38;5;45mNone\u001b[0m, \u001b[38;5;34m512\u001b[0m)                 │         \u001b[38;5;34m262,656\u001b[0m │\n",
              "├──────────────────────────────────────┼─────────────────────────────┼─────────────────┤\n",
              "│ dense_2 (\u001b[38;5;33mDense\u001b[0m)                      │ (\u001b[38;5;45mNone\u001b[0m, \u001b[38;5;34m10\u001b[0m)                  │           \u001b[38;5;34m5,130\u001b[0m │\n",
              "└──────────────────────────────────────┴─────────────────────────────┴─────────────────┘\n"
            ],
            "text/html": [
              "<pre style=\"white-space:pre;overflow-x:auto;line-height:normal;font-family:Menlo,'DejaVu Sans Mono',consolas,'Courier New',monospace\">┏━━━━━━━━━━━━━━━━━━━━━━━━━━━━━━━━━━━━━━┳━━━━━━━━━━━━━━━━━━━━━━━━━━━━━┳━━━━━━━━━━━━━━━━━┓\n",
              "┃<span style=\"font-weight: bold\"> Layer (type)                         </span>┃<span style=\"font-weight: bold\"> Output Shape                </span>┃<span style=\"font-weight: bold\">         Param # </span>┃\n",
              "┡━━━━━━━━━━━━━━━━━━━━━━━━━━━━━━━━━━━━━━╇━━━━━━━━━━━━━━━━━━━━━━━━━━━━━╇━━━━━━━━━━━━━━━━━┩\n",
              "│ dense (<span style=\"color: #0087ff; text-decoration-color: #0087ff\">Dense</span>)                        │ (<span style=\"color: #00d7ff; text-decoration-color: #00d7ff\">None</span>, <span style=\"color: #00af00; text-decoration-color: #00af00\">512</span>)                 │         <span style=\"color: #00af00; text-decoration-color: #00af00\">401,920</span> │\n",
              "├──────────────────────────────────────┼─────────────────────────────┼─────────────────┤\n",
              "│ dense_1 (<span style=\"color: #0087ff; text-decoration-color: #0087ff\">Dense</span>)                      │ (<span style=\"color: #00d7ff; text-decoration-color: #00d7ff\">None</span>, <span style=\"color: #00af00; text-decoration-color: #00af00\">512</span>)                 │         <span style=\"color: #00af00; text-decoration-color: #00af00\">262,656</span> │\n",
              "├──────────────────────────────────────┼─────────────────────────────┼─────────────────┤\n",
              "│ dense_2 (<span style=\"color: #0087ff; text-decoration-color: #0087ff\">Dense</span>)                      │ (<span style=\"color: #00d7ff; text-decoration-color: #00d7ff\">None</span>, <span style=\"color: #00af00; text-decoration-color: #00af00\">10</span>)                  │           <span style=\"color: #00af00; text-decoration-color: #00af00\">5,130</span> │\n",
              "└──────────────────────────────────────┴─────────────────────────────┴─────────────────┘\n",
              "</pre>\n"
            ]
          },
          "metadata": {}
        },
        {
          "output_type": "display_data",
          "data": {
            "text/plain": [
              "\u001b[1m Total params: \u001b[0m\u001b[38;5;34m669,706\u001b[0m (2.55 MB)\n"
            ],
            "text/html": [
              "<pre style=\"white-space:pre;overflow-x:auto;line-height:normal;font-family:Menlo,'DejaVu Sans Mono',consolas,'Courier New',monospace\"><span style=\"font-weight: bold\"> Total params: </span><span style=\"color: #00af00; text-decoration-color: #00af00\">669,706</span> (2.55 MB)\n",
              "</pre>\n"
            ]
          },
          "metadata": {}
        },
        {
          "output_type": "display_data",
          "data": {
            "text/plain": [
              "\u001b[1m Trainable params: \u001b[0m\u001b[38;5;34m669,706\u001b[0m (2.55 MB)\n"
            ],
            "text/html": [
              "<pre style=\"white-space:pre;overflow-x:auto;line-height:normal;font-family:Menlo,'DejaVu Sans Mono',consolas,'Courier New',monospace\"><span style=\"font-weight: bold\"> Trainable params: </span><span style=\"color: #00af00; text-decoration-color: #00af00\">669,706</span> (2.55 MB)\n",
              "</pre>\n"
            ]
          },
          "metadata": {}
        },
        {
          "output_type": "display_data",
          "data": {
            "text/plain": [
              "\u001b[1m Non-trainable params: \u001b[0m\u001b[38;5;34m0\u001b[0m (0.00 B)\n"
            ],
            "text/html": [
              "<pre style=\"white-space:pre;overflow-x:auto;line-height:normal;font-family:Menlo,'DejaVu Sans Mono',consolas,'Courier New',monospace\"><span style=\"font-weight: bold\"> Non-trainable params: </span><span style=\"color: #00af00; text-decoration-color: #00af00\">0</span> (0.00 B)\n",
              "</pre>\n"
            ]
          },
          "metadata": {}
        }
      ]
    },
    {
      "cell_type": "markdown",
      "source": [
        "### Elegir la función de pérdida, optimizador y métricas\n"
      ],
      "metadata": {
        "id": "0WVQmTArFhwG"
      }
    },
    {
      "cell_type": "code",
      "source": [
        "from tensorflow.keras.optimizers import RMSprop\n",
        "from tensorflow.keras.losses import CategoricalCrossentropy\n",
        "from tensorflow.keras.metrics import Accuracy\n",
        "\n",
        "network.compile(loss='categorical_crossentropy', optimizer='rmsprop', metrics=['accuracy'])"
      ],
      "metadata": {
        "id": "OuPtVM1IF7YF"
      },
      "execution_count": null,
      "outputs": []
    },
    {
      "cell_type": "markdown",
      "source": [
        "#### Normalización de la entrada"
      ],
      "metadata": {
        "id": "LBFXo0YUGLuC"
      }
    },
    {
      "cell_type": "code",
      "source": [
        "from sklearn.model_selection import train_test_split\n",
        "Xf_train, Xf_test, yf_train, yf_test = train_test_split(X, y, train_size=50000, shuffle=True, random_state=0)\n",
        "\n",
        "Xf_train = Xf_train.reshape((50000, 28 * 28))\n",
        "Xf_test = Xf_test.reshape((10000, 28 * 28))\n",
        "\n",
        "# TODO: check if standardization works better\n",
        "Xf_train = Xf_train.astype('float32') / 255\n",
        "Xf_test = Xf_test.astype('float32') / 255\n",
        "\n",
        "from tensorflow.keras.utils import to_categorical\n",
        "yf_train = to_categorical(yf_train)\n",
        "yf_test = to_categorical(yf_test)"
      ],
      "metadata": {
        "id": "5VOXSqCdGFUi"
      },
      "execution_count": null,
      "outputs": []
    },
    {
      "cell_type": "markdown",
      "source": [
        "### Elegir hiperparámetros en el entrenamiento\n",
        "- épocas, las necesarias para cubrir todos los datos (iteraciones sobre el conjunto de entrenamiento)\n",
        "- tamaño del lote, se prefieren tamaños pequeños (32, 64, ... ejemplos)"
      ],
      "metadata": {
        "id": "aAs-8cqAHCu_"
      }
    },
    {
      "cell_type": "code",
      "source": [
        "history = network.fit(Xf_train, yf_train, epochs=3, batch_size=32, verbose=0)"
      ],
      "metadata": {
        "id": "zvQBIbYnHWIk"
      },
      "execution_count": null,
      "outputs": []
    },
    {
      "cell_type": "markdown",
      "source": [
        "### Predicción y evaluación"
      ],
      "metadata": {
        "id": "PWpMvRCxIS5s"
      }
    },
    {
      "cell_type": "code",
      "source": [
        "np.set_printoptions(precision=7)\n",
        "fig, axes = plt.subplots(1, 1, figsize=(5, 5))\n",
        "sample_id = 5\n",
        "axes.imshow(Xf_test[sample_id].reshape(28, 28), cmap=plt.cm.gray_r)\n",
        "axes.set_xlabel(\"True label: {}\".format(yf_test[sample_id]))\n",
        "axes.set_xticks([])\n",
        "axes.set_yticks([])\n",
        "yf_pred = network.predict(Xf_test, verbose=0)\n",
        "\n",
        "yf_pred[sample_id]"
      ],
      "metadata": {
        "colab": {
          "base_uri": "https://localhost:8080/",
          "height": 495
        },
        "id": "3tdRpaueIVQY",
        "outputId": "e3865251-f968-4d79-858b-5cf0ec6e3ec8"
      },
      "execution_count": null,
      "outputs": [
        {
          "output_type": "execute_result",
          "data": {
            "text/plain": [
              "array([8.6122059e-04, 9.4779388e-08, 9.9730188e-01, 1.9679874e-06,\n",
              "       1.7354049e-04, 1.4716942e-08, 1.6589273e-03, 6.2476713e-09,\n",
              "       2.2627535e-06, 1.4680860e-08], dtype=float32)"
            ]
          },
          "metadata": {},
          "execution_count": 53
        },
        {
          "output_type": "display_data",
          "data": {
            "text/plain": [
              "<Figure size 500x500 with 1 Axes>"
            ],
            "image/png": "[encoded data removed]"
          },
          "metadata": {}
        }
      ]
    },
    {
      "cell_type": "code",
      "source": [
        "test_loss, test_acc = network.evaluate(Xf_test, yf_test, verbose=0)\n",
        "print('Test accuracy:', test_acc)"
      ],
      "metadata": {
        "colab": {
          "base_uri": "https://localhost:8080/"
        },
        "id": "OVScLKImIwnj",
        "outputId": "32f7eb48-edb8-402d-80ad-795fca1d9c34"
      },
      "execution_count": null,
      "outputs": [
        {
          "output_type": "stream",
          "name": "stdout",
          "text": [
            "Test accuracy: 0.840499997138977\n"
          ]
        }
      ]
    }
  ]
}